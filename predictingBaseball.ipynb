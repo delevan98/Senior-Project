{
 "cells": [
  {
   "cell_type": "code",
   "execution_count": null,
   "metadata": {},
   "outputs": [],
   "source": []
  },
  {
   "cell_type": "code",
   "execution_count": null,
   "metadata": {},
   "outputs": [],
   "source": []
  },
  {
   "cell_type": "markdown",
   "metadata": {},
   "source": [
    "# **3  Data Description**\n",
    "\n",
    "The dataset chosen for this project will be sourced from retrosheets.com and include baseball data from 2010-2018. Retrosheets has a large amount of historical baseball data ranging from 2018 all the way back to 1871. It includes downloadable play-by-play files, complete game logs, and team schedules for all of the years mentioned above. Retrosheets also has multiple regular season game log files compiled into a zip archive that can be downloaded in bulk. This project will be using those compiled game files for seasons from 2010 through 2018. The initial format of the data is a simple text file, however all fields are in comma delimited format so conversion to a CSV file will not cause a problem. These files contain the most complete and most relevant data to solve the problem and include information such as team statistics, winning and losing pitchers, linescores, attendance, starting pitchers, umpires and more. In total the dataset has close to 46,000 rows and 161 variables that will need to be processed, below is a detailed listing of all variables:\n",
    "\n",
    "\n",
    "| **Fields(s)** |**Description** |\n",
    "| --- | --- |\n",
    "|  1  | Date as a string in the form \"yyyymmdd\". |\n",
    "|  2  | Number of the game corresponding to the current season. |\n",
    "|  3  | Day of the week as a string. |\n",
    "| 4-5 | Name and league of the visitor team. |\n",
    "|  6  | Game number of the visitor team. |\n",
    "| 7-8 | Name and league of the home team. |\n",
    "|  9  | Game number of the home team. |\n",
    "|10-11| Runs of the visitor and home team, respectively. |\n",
    "|  12 | Length of game in outs. A full 9-inning game would have a 54 in this field. If the home team won without batting in the bottom of the ninth, this field would contain a 51. |\n",
    "|  13 | Day/night indicator (\"D\" or \"N\"). |\n",
    "|  14 | Completion information indicates if the game was completed at a later date (either due to a suspension or an upheld protest). |\n",
    "|  15 | Forfeit information. |\n",
    "|  16 | Protest information. |\n",
    "|  17 | Park identifier. |\n",
    "|  18 | Attendance. |\n",
    "|  19 | Duration of the game (in minutes). |\n",
    "|20-21| Visitor and home line scores as a string. For example, \"010000(10)0x\"  indicates a game where the home team scored a run in the second inning, ten in the seventh and didn't bat in the bottom of the ninth. |\n",
    "|22-38| Offensive statistics of the visitor team: at-bats, hits, doubles, triples, homeruns, RBI, sacrifice hits, sacrifice flies, hit-by-pitch, walks, intentional walks, strikeouts, stolen bases, caught stealing, grounded into double plays, awarded first on catcher's interference and left on base (in this order). |\n",
    "|39-43| Pitching statistics of the visitor team: pitchers used, individual earned runs, team earned runs, wild pitches and balks (in this order). |\n",
    "|44-49| Defensive statistics of the visitor team: putouts, assists, errors, passed balls, double plays and triple plays (in this order). |\n",
    "|50-66| Offensive statistics of the home team. |\n",
    "|67-71| Pitching statistics of the home team. |\n",
    "|72-77| Defensive statistics of the home team. |\n",
    "|78-79| Home plate umpire identifier and name. |\n",
    "|80-81| First base umpire identifier and name. |\n",
    "|82-83| Second base umpire identifier and name. |\n",
    "|84-85| Third base umpire identifier and name. |\n",
    "|86-87| Left field umpire identifier and name. |\n",
    "|88-89| Right field umpire identifier and name. |\n",
    "|90-91| Manager of the visitor team identifier and name. |\n",
    "|92-93| Manager of the home team identifier and name. |\n",
    "|94-95| Winning pitcher identifier and name. |\n",
    "|96-97| Losing pitcher identifier and name. |\n",
    "|98-99| Saving pitcher identifier and name. |\n",
    "|100-101| Game Winning RBI batter identifier and name. |\n",
    "|102-103| Visitor starting pitcher identifier and name.\n",
    "|104-105| Home starting pitcher identifier and name.\n",
    "|106-132| Visitor starting players identifier, name and defensive position, listed in the order (1-9) they appeared in the batting order. |\n",
    "|133-159| Home starting players’ identifier, name and defensive position listed in the order (1-9) they appeared in the batting order. |\n",
    "|160| Additional information. |\n",
    "|161| Acquisition information. |"
   ]
  },
  {
   "cell_type": "code",
   "execution_count": null,
   "metadata": {},
   "outputs": [],
   "source": []
  }
 ],
 "metadata": {
  "kernelspec": {
   "display_name": "Python 3",
   "language": "python",
   "name": "python3"
  },
  "language_info": {
   "codemirror_mode": {
    "name": "ipython",
    "version": 3
   },
   "file_extension": ".py",
   "mimetype": "text/x-python",
   "name": "python",
   "nbconvert_exporter": "python",
   "pygments_lexer": "ipython3",
   "version": "3.6.8"
  }
 },
 "nbformat": 4,
 "nbformat_minor": 4
}
