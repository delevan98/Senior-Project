{
 "cells": [
  {
   "cell_type": "markdown",
   "metadata": {},
   "source": [
    "# Predicting the Outcomes of Baseball Games Using Machine Learning Approaches\n",
    "\n",
    "# By: Mike Delevan\n",
    "# DS 201 Semester Project"
   ]
  },
  {
   "cell_type": "markdown",
   "metadata": {},
   "source": [
    "# **1 Abstract**\n",
    "\n",
    "Major League Baseball, also known as America’s pastime, continues to be one of the most popular sports in the US and contains a faithful fanbase that closely pays attention to the statistics surrounding the game. This study intended to capture the interest in the statistics of baseball by utilizing openly avaiable data to train machine learning algorithms to predict the outcome of upcoming games. To achieve the goals of this study the data was first programmatically loaded, pre-processed, visualized, and feature engineered to transform it into acceptable input for the machine learning algorithms. Then, multiple machine learning algorithms were researched and tested to determine the architectures that performed the highest. The chosen models were then evaluated for their accuracy using mutliple methods.\n",
    "\n",
    "**Conclusions need to go here when I actually get conclusions**\n",
    "\n"
   ]
  },
  {
   "cell_type": "markdown",
   "metadata": {},
   "source": [
    "# **2 Problem Description and Objectives**\n",
    "\n",
    "Major League Baseball is one of the oldest and most popular sports in the US and thus has a wide range of data available for statistical and predictive analysis. This data can be found in a wide range of places on the internet and can contain information on just about every occurrence in any baseball game right down to the pitch. Using this data, a lot can be predicted such as a pitchers next pitch, the probability that a team will win their next game, or even who is most likely to win the World Series. This project will pull this historical data from online databases and use it to predict the probability that a team will win their next game and the margin of victory. A recent attempt at predicting the winner of a certain matchup using machine learning and artificial neural networks achieved a precision of 58%**(Cite)**. Given the task, this precision is actually very good because it is hard to accurately predict the winner of a game due to the amount of variables. If data scientists were able to predict the winner of baseball games with 90% accuracy sports betting would most likely cease to exist. The goal of this project intends to utilize exploratory data analysis to achieve a greater than 50% precision on predicting the winner of upcoming baseball games. \n",
    "\n",
    "The objectives for the system will be to take historical and recent baseball game data and use it to predict the winner of upcoming baseball games and the game’s score. It will also need to be represented graphically so it is easy for a user to see the predictions for upcoming games. The data will need to be programmatically loaded, pre-processed, and analyzed to find patterns within the data for feature engineering. Various neural networks and machine learning algorithms will be researched, designed, trained and tested to find the best architecture that will best be able to predict the outcomes and scores of games. This may include trying several different models to see which one performs the best and mitigating any underperforming neural network architectures. The predictions from the chosen architecture will then be evaluated using multiple evaluation methods.\n"
   ]
  },
  {
   "cell_type": "markdown",
   "metadata": {},
   "source": [
    "# **3  Data Description**\n",
    "\n",
    "The dataset chosen for this project will be sourced from [Retrosheet](https://www.retrosheet.org/) and include baseball data from 2010-2018. Retrosheets has a large amount of historical baseball data ranging from 2018 all the way back to 1871. It includes downloadable play-by-play files, complete game logs, and team schedules for all of the years mentioned above. Retrosheets also has multiple regular season game log files compiled into a zip archive that can be downloaded in bulk. This project will be using those compiled game files for seasons from 2010 through 2018. The initial format of the data is a simple text file, however all fields are in comma delimited format so conversion to a CSV file will not cause a problem. These files contain the most complete and most relevant data to solve the problem and include information such as team statistics, winning and losing pitchers, linescores, attendance, starting pitchers, umpires and more. The initial form of the data does not include headers for each field, so these will have to be added manually. In total the dataset has close to 46,000 rows and 161 variables that will need to be processed, below is a detailed listing of all variables:\n",
    "\n",
    "\n",
    "| **Fields(s)** |**Description** |\n",
    "| --- | --- |\n",
    "|  1  | Date as a string in the form \"yyyymmdd\". |\n",
    "|  2  | Number of the game corresponding to the current season. |\n",
    "|  3  | Day of the week as a string. |\n",
    "| 4-5 | Name and league of the visitor team. |\n",
    "|  6  | Game number of the visitor team. |\n",
    "| 7-8 | Name and league of the home team. |\n",
    "|  9  | Game number of the home team. |\n",
    "|10-11| Runs of the visitor and home team, respectively. |\n",
    "|  12 | Length of game in outs. A full 9-inning game would have a 54 in this field. If the home team won without batting in the bottom of the ninth, this field would contain a 51. |\n",
    "|  13 | Day/night indicator (\"D\" or \"N\"). |\n",
    "|  14 | Completion information indicates if the game was completed at a later date (either due to a suspension or an upheld protest). |\n",
    "|  15 | Forfeit information. |\n",
    "|  16 | Protest information. |\n",
    "|  17 | Park identifier. |\n",
    "|  18 | Attendance. |\n",
    "|  19 | Duration of the game (in minutes). |\n",
    "|20-21| Visitor and home line scores as a string. For example, \"010000(10)0x\"  indicates a game where the home team scored a run in the second inning, ten in the seventh and didn't bat in the bottom of the ninth. |\n",
    "|22-38| Offensive statistics of the visitor team: at-bats, hits, doubles, triples, homeruns, RBI, sacrifice hits, sacrifice flies, hit-by-pitch, walks, intentional walks, strikeouts, stolen bases, caught stealing, grounded into double plays, awarded first on catcher's interference and left on base (in this order). |\n",
    "|39-43| Pitching statistics of the visitor team: pitchers used, individual earned runs, team earned runs, wild pitches and balks (in this order). |\n",
    "|44-49| Defensive statistics of the visitor team: putouts, assists, errors, passed balls, double plays and triple plays (in this order). |\n",
    "|50-66| Offensive statistics of the home team. |\n",
    "|67-71| Pitching statistics of the home team. |\n",
    "|72-77| Defensive statistics of the home team. |\n",
    "|78-79| Home plate umpire identifier and name. |\n",
    "|80-81| First base umpire identifier and name. |\n",
    "|82-83| Second base umpire identifier and name. |\n",
    "|84-85| Third base umpire identifier and name. |\n",
    "|86-87| Left field umpire identifier and name. |\n",
    "|88-89| Right field umpire identifier and name. |\n",
    "|90-91| Manager of the visitor team identifier and name. |\n",
    "|92-93| Manager of the home team identifier and name. |\n",
    "|94-95| Winning pitcher identifier and name. |\n",
    "|96-97| Losing pitcher identifier and name. |\n",
    "|98-99| Saving pitcher identifier and name. |\n",
    "|100-101| Game Winning RBI batter identifier and name. |\n",
    "|102-103| Visitor starting pitcher identifier and name.\n",
    "|104-105| Home starting pitcher identifier and name.\n",
    "|106-132| Visitor starting players identifier, name and defensive position, listed in the order (1-9) they appeared in the batting order. |\n",
    "|133-159| Home starting players’ identifier, name and defensive position listed in the order (1-9) they appeared in the batting order. |\n",
    "|160| Additional information. |\n",
    "|161| Acquisition information. |"
   ]
  }
 ],
 "metadata": {
  "kernelspec": {
   "display_name": "Python 3",
   "language": "python",
   "name": "python3"
  },
  "language_info": {
   "codemirror_mode": {
    "name": "ipython",
    "version": 3
   },
   "file_extension": ".py",
   "mimetype": "text/x-python",
   "name": "python",
   "nbconvert_exporter": "python",
   "pygments_lexer": "ipython3",
   "version": "3.6.8"
  }
 },
 "nbformat": 4,
 "nbformat_minor": 4
}
